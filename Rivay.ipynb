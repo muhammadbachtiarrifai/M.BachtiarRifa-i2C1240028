{
  "nbformat": 4,
  "nbformat_minor": 0,
  "metadata": {
    "colab": {
      "provenance": [],
      "authorship_tag": "ABX9TyOoRYGKVAMjjRYpUJR5bKCS",
      "include_colab_link": true
    },
    "kernelspec": {
      "name": "python3",
      "display_name": "Python 3"
    },
    "language_info": {
      "name": "python"
    }
  },
  "cells": [
    {
      "cell_type": "markdown",
      "metadata": {
        "id": "view-in-github",
        "colab_type": "text"
      },
      "source": [
        "<a href=\"https://colab.research.google.com/github/muhammadbachtiarrifai/M.BachtiarRifa-i2C1240028/blob/main/Rivay.ipynb\" target=\"_parent\"><img src=\"https://colab.research.google.com/assets/colab-badge.svg\" alt=\"Open In Colab\"/></a>"
      ]
    },
    {
      "cell_type": "code",
      "execution_count": 6,
      "metadata": {
        "colab": {
          "base_uri": "https://localhost:8080/"
        },
        "id": "0TsbhuO9sSO8",
        "outputId": "6bf39c87-ecbc-41f3-cafd-79c71865e2dc"
      },
      "outputs": [
        {
          "output_type": "stream",
          "name": "stdout",
          "text": [
            "7\n"
          ]
        }
      ],
      "source": [
        "NumbInt = [9,8,7,6,5,4,3,2,1,0]\n",
        "print (NumbInt [2])"
      ]
    },
    {
      "cell_type": "code",
      "source": [
        "X = [0 for i in range(10)]\n",
        "print (NumbInt [4])"
      ],
      "metadata": {
        "colab": {
          "base_uri": "https://localhost:8080/"
        },
        "id": "B2bjpxxZuG3D",
        "outputId": "a5c75142-05c0-4a2d-8a6b-a99d43fcb19f"
      },
      "execution_count": 10,
      "outputs": [
        {
          "output_type": "stream",
          "name": "stdout",
          "text": [
            "5\n"
          ]
        }
      ]
    },
    {
      "cell_type": "code",
      "source": [
        "Y = ['*' for i in range (10)]\n",
        "print (Y[5])"
      ],
      "metadata": {
        "colab": {
          "base_uri": "https://localhost:8080/"
        },
        "id": "nvPXocBbureK",
        "outputId": "d0dd5f50-b904-4c1c-dc36-7a35ff900e17"
      },
      "execution_count": 14,
      "outputs": [
        {
          "output_type": "stream",
          "name": "stdout",
          "text": [
            "*\n"
          ]
        }
      ]
    },
    {
      "cell_type": "code",
      "source": [
        "P = [1,2,4,-1,100,2,0,-1,3,9]\n",
        "print (P[2])\n",
        "R = P[7] + P[5]\n",
        "print (f\"hasil dari\", P[7], \"+\", P[5], \"=\", R)"
      ],
      "metadata": {
        "colab": {
          "base_uri": "https://localhost:8080/"
        },
        "id": "mKDorGGDwliD",
        "outputId": "49de292b-fb12-4dff-84f1-f0709fda3b92"
      },
      "execution_count": 21,
      "outputs": [
        {
          "output_type": "stream",
          "name": "stdout",
          "text": [
            "4\n",
            "hasil dari -1 + 2 = 1\n"
          ]
        }
      ]
    },
    {
      "cell_type": "code",
      "source": [
        "# Program IsiArray\n",
        "# Mengisi array dengan nilai dari pengguna\n",
        "# KAMUS\n",
        "# TabInt : array [0..9] of int\n",
        "# I : int\n",
        "# ALGORITMA\n",
        "# Deklarasi array NumbInt dan mengisinya dengan nilai default 0\n",
        "NumbInt = [0 for i in range(10)]\n",
        "# Mengisi array dari pembacaan nilai dari keyboard\n",
        "for i in range(0,10):\n",
        "  NumbInt[i] = int(input())\n",
        "# Mencetak isi array\n",
        "for i in range(0,10):\n",
        "  print(NumbInt[i])"
      ],
      "metadata": {
        "colab": {
          "base_uri": "https://localhost:8080/"
        },
        "id": "m1lxN2DX1D1Z",
        "outputId": "ceb67820-8aeb-429b-c2fc-e5bc3b7b68c5"
      },
      "execution_count": 28,
      "outputs": [
        {
          "output_type": "stream",
          "name": "stdout",
          "text": [
            "8\n",
            "9\n",
            "2\n",
            "1\n",
            "4\n",
            "5\n",
            "6\n",
            "7\n",
            "8\n",
            "4\n",
            "8\n",
            "9\n",
            "2\n",
            "1\n",
            "4\n",
            "5\n",
            "6\n",
            "7\n",
            "8\n",
            "4\n"
          ]
        }
      ]
    },
    {
      "cell_type": "code",
      "source": [
        "# Program AverageArray\n",
        "# Menghitung nilai rata-rata elemen array\n",
        "# KAMUS\n",
        "# TabInt : array [0..9] of int\n",
        "# i : int\n",
        "# sum : int\n",
        "# ALGORITMA\n",
        "# Deklarasi array TabInt dan mengisinya dengan nilai default 0\n",
        "NumbInt = [0 for i in range(5)]\n",
        "# Mengisi array dari pembacaan nilai dari keyboard\n",
        "for i in range(0,5):\n",
        "  NumbInt[i] = int(input())\n",
        "# Menjumlahkan elemen array\n",
        "sum = 0\n",
        "for i in range(0,5):\n",
        "  sum = sum + NumbInt[i]\n",
        "# Menghitung nilai rata-rata dan menampilkannya\n",
        "rata = sum/5\n",
        "print (\"Nilai rata-rata = \" + str(rata))"
      ],
      "metadata": {
        "colab": {
          "base_uri": "https://localhost:8080/"
        },
        "id": "PJ9-f0er1TpY",
        "outputId": "ef3c00ab-6100-44f5-a525-8c8b954b7aca"
      },
      "execution_count": 35,
      "outputs": [
        {
          "output_type": "stream",
          "name": "stdout",
          "text": [
            "5\n",
            "7\n",
            "3\n",
            "5\n",
            "8\n",
            "Nilai rata-rata = 5.6\n"
          ]
        }
      ]
    },
    {
      "cell_type": "code",
      "source": [
        "# Program: Perkalian Array dan Mencari Nilai Ekstrem\n",
        "# 1. Inisialisasi array S\n",
        "S = [4, 1, -1, 10, 0, 12]\n",
        "# 2. Input nilai D dari pengguna\n",
        "D = int(input(\"Masukkan nilai D (pengali): \"))\n",
        "# 3. Kalikan setiap elemen S dengan D\n",
        "S = [elemen * D for elemen in S]\n",
        "# 4. Tampilkan hasil array setelah dikalikan\n",
        "print(\"Array S setelah dikalikan dengan D:\")\n",
        "print(S)\n",
        "# 5. Cari nilai maksimum dan minimum\n",
        "maks = max(S)\n",
        "minim = min(S)\n",
        "# 6. Tampilkan nilai maksimum dan minimum\n",
        "print(\"Nilai terbesar dalam array:\", maks)\n",
        "print(\"Nilai terkecil dalam array:\", minim)"
      ],
      "metadata": {
        "colab": {
          "base_uri": "https://localhost:8080/"
        },
        "id": "Q_gNUqam1Y4g",
        "outputId": "50fd3285-a4dc-45b3-b958-7c0cc7013720"
      },
      "execution_count": 36,
      "outputs": [
        {
          "output_type": "stream",
          "name": "stdout",
          "text": [
            "Masukkan nilai D (pengali): 2\n",
            "Array S setelah dikalikan dengan D:\n",
            "[8, 2, -2, 20, 0, 24]\n",
            "Nilai terbesar dalam array: 24\n",
            "Nilai terkecil dalam array: -2\n"
          ]
        }
      ]
    },
    {
      "cell_type": "code",
      "source": [
        "MatM = [[1,2,3,4,5],\n",
        "        [1,3,4,6,7],\n",
        "        [3,45,6,7,89]]\n",
        "for j in range(len(MatM[0])):\n",
        "  for i in range(len(MatM)):\n",
        "    print(MatM [i][j], end = \" \")\n",
        "  print()"
      ],
      "metadata": {
        "colab": {
          "base_uri": "https://localhost:8080/"
        },
        "id": "ksnsTUbH58Xn",
        "outputId": "bd4dca0e-b016-4ef3-dd78-508d166f4493"
      },
      "execution_count": 62,
      "outputs": [
        {
          "output_type": "stream",
          "name": "stdout",
          "text": [
            "1 1 3 \n",
            "2 3 45 \n",
            "3 4 6 \n",
            "4 6 7 \n",
            "5 7 89 \n"
          ]
        }
      ]
    },
    {
      "cell_type": "code",
      "source": [
        "# Program IsiMatriks;\n",
        "# Isi matriks dan menulis ke layar\n",
        "# KAMUS\n",
        "# M : matriks of integer\n",
        "# NBrs, NKol : int (ukuran brs & kol)\n",
        "# i, j : int (indeks)\n",
        "# ALGORITMA\n",
        "# deklarasi matriks\n",
        "NBrs = 5; NKol = 5;\n",
        "M = [[0 for j in range(NKol)] for i in range(NBrs)]\n",
        "# Mengisi matriks ukuran NBrsxNKol\n",
        "for i in range (NBrs):\n",
        "  for j in range (NKol):\n",
        "    M[i][j] = i * j\n",
        "# Menuliskan isi matriks ke layar\n",
        "for i in range (NBrs):\n",
        "  for j in range (NKol):\n",
        "    print(str(M[i][j])+\" \", end= '')\n",
        "print()\n",
        "# print hanya enter"
      ],
      "metadata": {
        "colab": {
          "base_uri": "https://localhost:8080/"
        },
        "id": "r0ED2PJQ7kBf",
        "outputId": "ffe8e6d3-6f7e-44ba-de84-2e0ff8886da4"
      },
      "execution_count": 82,
      "outputs": [
        {
          "output_type": "stream",
          "name": "stdout",
          "text": [
            "0 0 0 0 0 0 1 2 3 4 0 2 4 6 8 0 3 6 9 12 0 4 8 12 16 \n"
          ]
        }
      ]
    },
    {
      "cell_type": "code",
      "source": [
        "# Program BacaMatriks;\n",
        "# Baca isi matriks dari pengguna dan menulis ke layar\n",
        "# KAMUS\n",
        "# M : matriks of integer\n",
        "# NBrs, NKol : int (ukuran brs & kol)\n",
        "# i, j : int (indeks)\n",
        "# ALGORITMA\n",
        "# deklarasi matriks\n",
        "NBrs = 5; NKol = 5;\n",
        "M = [[0 for j in range(NKol)] for i in range(NBrs)]\n",
        "# Mengisi matriks ukuran NBrsxNKol\n",
        "for i in range (NBrs):\n",
        "  for j in range (NKol):\n",
        "    M[i][j] = int(input(\"Elemen ke-[\"+str(i)+\",\"+str(j)+\"] = \"))\n",
        "# Menuliskan isi matriks ke layar\n",
        "for i in range (NBrs):\n",
        "  for j in range (NKol):\n",
        "    print(str(M[i][j])+\" \", end='') # print tanpa enter\n",
        "print() # print hanya enter"
      ],
      "metadata": {
        "colab": {
          "base_uri": "https://localhost:8080/"
        },
        "id": "egYYnvym7u4H",
        "outputId": "b38274f1-d194-4e15-949b-c0ae45eb18c0"
      },
      "execution_count": 87,
      "outputs": [
        {
          "output_type": "stream",
          "name": "stdout",
          "text": [
            "Elemen ke-[0,0] = 6\n",
            "Elemen ke-[0,1] = 6\n",
            "Elemen ke-[0,2] = 6\n",
            "Elemen ke-[0,3] = 6\n",
            "Elemen ke-[0,4] = 6\n",
            "Elemen ke-[1,0] = 6\n",
            "Elemen ke-[1,1] = 6\n",
            "Elemen ke-[1,2] = 6\n",
            "Elemen ke-[1,3] = 6\n",
            "Elemen ke-[1,4] = 6\n",
            "Elemen ke-[2,0] = 6\n",
            "Elemen ke-[2,1] = 6\n",
            "Elemen ke-[2,2] = 6\n",
            "Elemen ke-[2,3] = 6\n",
            "Elemen ke-[2,4] = 6\n",
            "Elemen ke-[3,0] = 6\n",
            "Elemen ke-[3,1] = 6\n",
            "Elemen ke-[3,2] = 6\n",
            "Elemen ke-[3,3] = 6\n",
            "Elemen ke-[3,4] = 6\n",
            "Elemen ke-[4,0] = 6\n",
            "Elemen ke-[4,1] = 6\n",
            "Elemen ke-[4,2] = 6\n",
            "Elemen ke-[4,3] = 6\n",
            "Elemen ke-[4,4] = 6\n",
            "6 6 6 6 6 6 6 6 6 6 6 6 6 6 6 6 6 6 6 6 6 6 6 6 6 \n"
          ]
        }
      ]
    },
    {
      "cell_type": "code",
      "source": [
        "# Program untuk membaca matriks dan mengalikan setiap elemennyadengan X\n",
        "# Membaca ukuran matriks\n",
        "baris = int(input(\"Masukkan jumlah baris: \"))\n",
        "kolom = int(input(\"Masukkan jumlah kolom: \"))\n",
        "# Membaca elemen-elemen matriks\n",
        "print(\"Masukkan elemen-elemen matriks:\")\n",
        "matriks = []\n",
        "for i in range(baris):\n",
        "  baris_matriks = []\n",
        "  for j in range(kolom):\n",
        "    elemen = int(input(f\"Elemen [{i}][{j}]: \"))\n",
        "    baris_matriks.append(elemen)\n",
        "  matriks.append(baris_matriks)\n",
        "# Membaca nilai X\n",
        "X = int(input(\"Masukkan nilai X untuk mengalikan semua elemen56matriks: \"))\n",
        "# Mengalikan setiap elemen matriks dengan X\n",
        "hasil = []\n",
        "for i in range(baris):\n",
        " hasil_baris = []\n",
        " for j in range(kolom):\n",
        "  hasil_baris.append(matriks[i][j] * X)\n",
        "  hasil.append(hasil_baris)\n",
        "# Menampilkan hasil matriks\n",
        "print(\"\\nMatriks setelah dikalikan dengan\", X, \":\")\n",
        "for baris in hasil:\n",
        " print(baris)"
      ],
      "metadata": {
        "colab": {
          "base_uri": "https://localhost:8080/"
        },
        "id": "0tIKtlYO74A2",
        "outputId": "c0785273-bb5e-4e42-af75-be535883972e"
      },
      "execution_count": 90,
      "outputs": [
        {
          "output_type": "stream",
          "name": "stdout",
          "text": [
            "Masukkan jumlah baris: 2\n",
            "Masukkan jumlah kolom: 2\n",
            "Masukkan elemen-elemen matriks:\n",
            "Elemen [0][0]: 3\n",
            "Elemen [0][1]: 4\n",
            "Elemen [1][0]: 5\n",
            "Elemen [1][1]: 6\n",
            "Masukkan nilai X untuk mengalikan semua elemen56matriks: 2\n",
            "\n",
            "Matriks setelah dikalikan dengan 2 :\n",
            "[6, 8]\n",
            "[6, 8]\n",
            "[10, 12]\n",
            "[10, 12]\n"
          ]
        }
      ]
    }
  ]
}