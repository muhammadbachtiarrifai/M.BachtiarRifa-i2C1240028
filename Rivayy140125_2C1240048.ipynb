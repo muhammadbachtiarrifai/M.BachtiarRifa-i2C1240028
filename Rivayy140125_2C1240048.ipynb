{
  "nbformat": 4,
  "nbformat_minor": 0,
  "metadata": {
    "colab": {
      "provenance": [],
      "authorship_tag": "ABX9TyPf4zczMlFiuqGPO54gy5rf",
      "include_colab_link": true
    },
    "kernelspec": {
      "name": "python3",
      "display_name": "Python 3"
    },
    "language_info": {
      "name": "python"
    }
  },
  "cells": [
    {
      "cell_type": "markdown",
      "metadata": {
        "id": "view-in-github",
        "colab_type": "text"
      },
      "source": [
        "<a href=\"https://colab.research.google.com/github/muhammadbachtiarrifai/M.BachtiarRifa-i2C1240028/blob/main/Rivayy140125_2C1240048.ipynb\" target=\"_parent\"><img src=\"https://colab.research.google.com/assets/colab-badge.svg\" alt=\"Open In Colab\"/></a>"
      ]
    },
    {
      "cell_type": "code",
      "execution_count": 82,
      "metadata": {
        "colab": {
          "base_uri": "https://localhost:8080/"
        },
        "id": "FXLBLfk6J9VW",
        "outputId": "c7090a4f-4d75-4177-f05f-accf1dcd77a6"
      },
      "outputs": [
        {
          "output_type": "stream",
          "name": "stdout",
          "text": [
            "Halo, Selamat belajar Python! nama Anda: Rivayy\n",
            "Halo, Rivayy! Selamat belajar Python!\n"
          ]
        }
      ],
      "source": [
        "#SOAL 1\n",
        "\n",
        "nama = input(\"Halo, Selamat belajar Python! nama Anda: \")\n",
        "print(\"Halo,\", nama + \"! Selamat belajar Python!\")"
      ]
    },
    {
      "cell_type": "code",
      "source": [
        "#SOAL 2\n",
        "#program menghitung luas persegi panjang\n",
        "\n",
        "panjang = float(input(\"masukkan panjang: \"))\n",
        "lebar = float(input(\"masukkan lebar:\"))\n",
        "luas = panjang*lebar\n",
        "print(\"luas persegi panjang, luas 15 \")\n",
        "\n"
      ],
      "metadata": {
        "colab": {
          "base_uri": "https://localhost:8080/"
        },
        "id": "t6BIaaZBMKfo",
        "outputId": "c45ffcbe-618f-435e-c15f-4f7701b0df3c"
      },
      "execution_count": 19,
      "outputs": [
        {
          "output_type": "stream",
          "name": "stdout",
          "text": [
            "masukkan panjang: 5\n",
            "masukkan lebar:3\n",
            "luas persegi panjang, luas 15 \n"
          ]
        }
      ]
    },
    {
      "cell_type": "code",
      "source": [],
      "metadata": {
        "id": "8yNj04KzOD1x"
      },
      "execution_count": null,
      "outputs": []
    },
    {
      "cell_type": "code",
      "source": [
        "#SOAL 3\n",
        "#program bilangan bulat, menentukan bilangan genap atau ganjil\n",
        "\n",
        "bilangan = int(input(\"masukkan bilangan bulat: \"))\n",
        "\n",
        "if bilangan % 2 == 0:\n",
        "     print(f\"{bilangan} adalah bilangan genap.\")\n",
        "else:\n",
        "     print(f\"{bilangan} adalah bilangan ganjil.\")"
      ],
      "metadata": {
        "colab": {
          "base_uri": "https://localhost:8080/"
        },
        "id": "RVBF0QNHO2OH",
        "outputId": "804982fc-a366-471e-ac17-98e184570883"
      },
      "execution_count": 30,
      "outputs": [
        {
          "output_type": "stream",
          "name": "stdout",
          "text": [
            "masukkan bilangan bulat: 7\n",
            "7 adalah bilangan ganjil.\n"
          ]
        }
      ]
    },
    {
      "cell_type": "code",
      "source": [
        "#SOAL 4\n",
        "#program deret bilangan 1 sampai 20 perulangan for\n",
        "\n",
        "for i in range(1, 21):\n",
        "  print(i, end= \" \")"
      ],
      "metadata": {
        "colab": {
          "base_uri": "https://localhost:8080/"
        },
        "id": "JHxDdypNSejP",
        "outputId": "8d6f522b-f305-4aaf-847d-e58e2250ae46"
      },
      "execution_count": 55,
      "outputs": [
        {
          "output_type": "stream",
          "name": "stdout",
          "text": [
            "1 2 3 4 5 6 7 8 9 10 11 12 13 14 15 16 17 18 19 20 "
          ]
        }
      ]
    },
    {
      "cell_type": "code",
      "source": [
        "#SOAL 5\n",
        "#menghitung jumlah semua bilangan a dan b\n",
        "\n",
        "a = int(input(\"Masukkan bilangan a: \"))\n",
        "b = int(input(\"Masukkan bilangan b: \"))\n",
        "\n",
        "jumlah = 0\n",
        "for i in range(a, b+1):\n",
        "  jumlah = jumlah + i\n",
        "\n",
        "print(f\"jumlah : {jumlah}\")"
      ],
      "metadata": {
        "colab": {
          "base_uri": "https://localhost:8080/"
        },
        "id": "jF3zNNuKU5Tl",
        "outputId": "6421bde4-3d0a-4681-fa5a-5fc05068cbe8"
      },
      "execution_count": 71,
      "outputs": [
        {
          "output_type": "stream",
          "name": "stdout",
          "text": [
            "Masukkan bilangan a: 3\n",
            "Masukkan bilangan b: 7\n",
            "jumlah : 25\n"
          ]
        }
      ]
    },
    {
      "cell_type": "code",
      "source": [
        "#SOAL 6\n",
        "#program memasukkan dua bilangan bulat a dan b\n",
        "\n",
        "a = int(input(\"Masukkan bilangan a: \"))\n",
        "b = int(input(\"Masukkan bilangan b: \"))\n",
        "\n",
        "for i in range(a, b+1):\n",
        "  if i % 2 == 0:\n",
        "    print(i)"
      ],
      "metadata": {
        "colab": {
          "base_uri": "https://localhost:8080/"
        },
        "id": "4VXvqCknZaYk",
        "outputId": "a0c459e7-87fc-414d-fa36-ccc1c75ab991"
      },
      "execution_count": 83,
      "outputs": [
        {
          "output_type": "stream",
          "name": "stdout",
          "text": [
            "Masukkan bilangan a: 3\n",
            "Masukkan bilangan b: 10\n",
            "4\n",
            "6\n",
            "8\n",
            "10\n"
          ]
        }
      ]
    },
    {
      "cell_type": "code",
      "source": [
        "#SOAL 7\n",
        "#program array mencetak urutan terbalik dengan loop\n",
        "\n",
        "reversed_arr =[0] * len(array)\n",
        "array = [5, 2, 8, 1]\n",
        "panjang_array= len(array)\n",
        "for i in range(panjang_array -1, -1, -1):\n",
        "  reversed_arr[panjang_array - 1 - i] = array[i]\n",
        "  print(array[i])"
      ],
      "metadata": {
        "colab": {
          "base_uri": "https://localhost:8080/"
        },
        "id": "jri0CTILeC_0",
        "outputId": "5af80ef9-673e-45fd-f315-2135b55f263d"
      },
      "execution_count": 114,
      "outputs": [
        {
          "output_type": "stream",
          "name": "stdout",
          "text": [
            "1\n",
            "8\n",
            "2\n",
            "5\n"
          ]
        }
      ]
    },
    {
      "cell_type": "code",
      "source": [
        "#SOAL 8\n",
        "#program menentukan bilangan prima\n",
        "\n",
        "angka = int(input(\"Masukkan angka: \"))\n",
        "if angka > 1:\n",
        "  for i in range(2, angka):\n",
        "    if (angka % i) == 0:\n",
        "      print(angka, \"bukan bilangan prima\")\n",
        "      break\n",
        "  else:\n",
        "    print(angka, \"adalah bilangan prima\")\n",
        "\n",
        "\n",
        "\n"
      ],
      "metadata": {
        "colab": {
          "base_uri": "https://localhost:8080/"
        },
        "id": "L0v3SNAYigth",
        "outputId": "79a603b6-30e3-49fd-e030-84813e67a09b"
      },
      "execution_count": 110,
      "outputs": [
        {
          "output_type": "stream",
          "name": "stdout",
          "text": [
            "Masukkan angka: 13\n",
            "13 adalah bilangan prima\n"
          ]
        }
      ]
    }
  ]
}