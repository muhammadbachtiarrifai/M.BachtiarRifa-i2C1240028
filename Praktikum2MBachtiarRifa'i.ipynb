{
  "nbformat": 4,
  "nbformat_minor": 0,
  "metadata": {
    "colab": {
      "provenance": [],
      "authorship_tag": "ABX9TyOTgaTFHF6Y4lUBXDtE1iLT",
      "include_colab_link": true
    },
    "kernelspec": {
      "name": "python3",
      "display_name": "Python 3"
    },
    "language_info": {
      "name": "python"
    }
  },
  "cells": [
    {
      "cell_type": "markdown",
      "metadata": {
        "id": "view-in-github",
        "colab_type": "text"
      },
      "source": [
        "<a href=\"https://colab.research.google.com/github/muhammadbachtiarrifai/M.BachtiarRifa-i2C1240028/blob/main/Praktikum2MBachtiarRifa'i.ipynb\" target=\"_parent\"><img src=\"https://colab.research.google.com/assets/colab-badge.svg\" alt=\"Open In Colab\"/></a>"
      ]
    },
    {
      "cell_type": "code",
      "source": [
        "nama = input(\"masukkan nama: \")\n",
        "jenis_kelamin = input(\"masukkan jenis kelamin: \")\n",
        "if (jenis_kelamin == \"laki-laki\" or jenis_kelamin == \"pria\"):\n",
        "  print (\"hello, bro\", nama)\n",
        "else:\n",
        "  print (\"hello, sis\", nama)"
      ],
      "metadata": {
        "colab": {
          "base_uri": "https://localhost:8080/"
        },
        "id": "n_EGGW40suh6",
        "outputId": "f55825f4-4838-45c4-f0bc-19bc9233fc60"
      },
      "execution_count": 21,
      "outputs": [
        {
          "output_type": "stream",
          "name": "stdout",
          "text": [
            "masukkan nama: Rrriiivvaaaayyyyy\n",
            "masukkan jenis kelamin: pria\n",
            "hello, bro Rrriiivvaaaayyyyy\n"
          ]
        }
      ]
    },
    {
      "cell_type": "code",
      "source": [
        "jumlah_barang = int(input(\"masukkan jumlah barang yang dibeli: \"))\n",
        "total_belanja = 0\n",
        "\n",
        "for i in range(jumlah_barang):\n",
        "    nama_barang = input(f\"masukkan nama barang ke-{i+1}: \")\n",
        "    harga = int(input(f\"masukkan harga barang ke-{i+1}: \"))\n",
        "    jumlah = int(input(f\"masukkan jumlah barang ke-{i+1}: \"))\n",
        "    total_harga = harga * jumlah\n",
        "    print(f\"total harga barang {nama_barang} adalah {total_harga}\")\n",
        "    total_belanja += total_harga\n",
        "\n",
        "print(f\"total belanja adalah {total_belanja}\")\n"
      ],
      "metadata": {
        "colab": {
          "base_uri": "https://localhost:8080/"
        },
        "id": "UXgX4cFYzCUn",
        "outputId": "b5f9a8f7-be17-4531-c676-24a9e24e274d"
      },
      "execution_count": 23,
      "outputs": [
        {
          "output_type": "stream",
          "name": "stdout",
          "text": [
            "masukkan jumlah barang yang dibeli: 2\n",
            "masukkan nama barang ke-1: apel\n",
            "masukkan harga barang ke-1: 15000\n",
            "masukkan jumlah barang ke-1: 2\n",
            "total harga barang apel adalah 30000\n",
            "masukkan nama barang ke-2: tomat\n",
            "masukkan harga barang ke-2: 12000\n",
            "masukkan jumlah barang ke-2: 2\n",
            "total harga barang tomat adalah 24000\n",
            "total belanja adalah 54000\n"
          ]
        }
      ]
    }
  ]
}