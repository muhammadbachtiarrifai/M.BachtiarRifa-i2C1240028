{
  "nbformat": 4,
  "nbformat_minor": 0,
  "metadata": {
    "colab": {
      "provenance": [],
      "authorship_tag": "ABX9TyMTqkMIPAwtm6ugfnUm5T0G",
      "include_colab_link": true
    },
    "kernelspec": {
      "name": "python3",
      "display_name": "Python 3"
    },
    "language_info": {
      "name": "python"
    }
  },
  "cells": [
    {
      "cell_type": "markdown",
      "metadata": {
        "id": "view-in-github",
        "colab_type": "text"
      },
      "source": [
        "<a href=\"https://colab.research.google.com/github/muhammadbachtiarrifai/M.BachtiarRifa-i2C1240028/blob/main/Praktikum2MBachtiarRifa'i.ipynb\" target=\"_parent\"><img src=\"https://colab.research.google.com/assets/colab-badge.svg\" alt=\"Open In Colab\"/></a>"
      ]
    },
    {
      "cell_type": "code",
      "source": [
        "nama = input(\"masukkan nama: \")\n",
        "jenis_kelamin = input(\"masukkan jenis kelamin: \")\n",
        "if (jenis_kelamin == \"laki-laki\" or jenis_kelamin == \"pria\"):\n",
        "  print (\"hello, bro\", nama)\n",
        "else:\n",
        "  print (\"hello, sis\", nama)"
      ],
      "metadata": {
        "colab": {
          "base_uri": "https://localhost:8080/"
        },
        "id": "n_EGGW40suh6",
        "outputId": "f55825f4-4838-45c4-f0bc-19bc9233fc60"
      },
      "execution_count": 21,
      "outputs": [
        {
          "output_type": "stream",
          "name": "stdout",
          "text": [
            "masukkan nama: Rrriiivvaaaayyyyy\n",
            "masukkan jenis kelamin: pria\n",
            "hello, bro Rrriiivvaaaayyyyy\n"
          ]
        }
      ]
    },
    {
      "cell_type": "code",
      "source": [
        "jumlah_barang = int(input(\"masukkan jumlah barang yang dibeli: \"))\n",
        "total_belanja = 0\n",
        "\n",
        "for i in range(jumlah_barang):\n",
        "    nama_barang = input(f\"masukkan nama barang ke-{i+1}: \")\n",
        "    harga = int(input(f\"masukkan harga barang ke-{i+1}: \"))\n",
        "    jumlah = int(input(f\"masukkan jumlah barang ke-{i+1}: \"))\n",
        "    total_harga = harga * jumlah\n",
        "    print(f\"total harga barang {nama_barang} adalah {total_harga}\")\n",
        "    total_belanja += total_harga\n",
        "\n",
        "print(f\"total belanja adalah {total_belanja}\")\n"
      ],
      "metadata": {
        "colab": {
          "base_uri": "https://localhost:8080/"
        },
        "id": "UXgX4cFYzCUn",
        "outputId": "b5f9a8f7-be17-4531-c676-24a9e24e274d"
      },
      "execution_count": 23,
      "outputs": [
        {
          "output_type": "stream",
          "name": "stdout",
          "text": [
            "masukkan jumlah barang yang dibeli: 2\n",
            "masukkan nama barang ke-1: apel\n",
            "masukkan harga barang ke-1: 15000\n",
            "masukkan jumlah barang ke-1: 2\n",
            "total harga barang apel adalah 30000\n",
            "masukkan nama barang ke-2: tomat\n",
            "masukkan harga barang ke-2: 12000\n",
            "masukkan jumlah barang ke-2: 2\n",
            "total harga barang tomat adalah 24000\n",
            "total belanja adalah 54000\n"
          ]
        }
      ]
    },
    {
      "cell_type": "code",
      "source": [
        "nilai = 9\n",
        "if(nilai > 7):\n",
        "  print(\"Sembilan Lebih Besar Dari Angka Tujuh\")\n",
        "if(nilai > 10):\n",
        "  print(\"Sembilan Lebih Besar Dari Angka Sepuluh\")"
      ],
      "metadata": {
        "colab": {
          "base_uri": "https://localhost:8080/"
        },
        "id": "PxS-tdu461Os",
        "outputId": "164559eb-7df1-4fc8-a06c-21f0b6356ab5"
      },
      "execution_count": 38,
      "outputs": [
        {
          "output_type": "stream",
          "name": "stdout",
          "text": [
            "Sembilan Lebih Besar Dari Angka Tujuh\n"
          ]
        }
      ]
    },
    {
      "cell_type": "code",
      "source": [
        "grade = float(input(\"Masukkan Nilai Anda: \"))\n",
        "if grade == 100:\n",
        "  print(\"perfect\")\n",
        "if grade == 90:\n",
        "  print(\"ok\")\n",
        "  print(\"keep working hard!\")"
      ],
      "metadata": {
        "colab": {
          "base_uri": "https://localhost:8080/"
        },
        "id": "kxEUabWG7E5b",
        "outputId": "d3c00bc2-4e10-40c2-defd-b527608d40fa"
      },
      "execution_count": 39,
      "outputs": [
        {
          "output_type": "stream",
          "name": "stdout",
          "text": [
            "Masukkan Nilai Anda: 100\n",
            "perfect\n"
          ]
        }
      ]
    },
    {
      "cell_type": "code",
      "source": [
        "grade = float(input(\"Masukkan Nilai Anda: \"))\n",
        "if grade == 100:\n",
        "  print(\"perfect\")\n",
        "if grade == 90:\n",
        "  print(\"ok\")\n",
        "  print(\"keep working hard!\")"
      ],
      "metadata": {
        "colab": {
          "base_uri": "https://localhost:8080/"
        },
        "id": "qBTonZ_p7GVc",
        "outputId": "5d9ef7d0-c356-4ef0-bd92-e7a457048786"
      },
      "execution_count": 40,
      "outputs": [
        {
          "output_type": "stream",
          "name": "stdout",
          "text": [
            "Masukkan Nilai Anda: 100\n",
            "perfect\n"
          ]
        }
      ]
    },
    {
      "cell_type": "code",
      "source": [
        "nilai = 8\n",
        "if(nilai > 7):\n",
        "  print(\"Selamat Anda Lulus\")\n",
        "else:\n",
        "  print(\"Maaf Anda Tidak Lulus\")"
      ],
      "metadata": {
        "colab": {
          "base_uri": "https://localhost:8080/"
        },
        "id": "nuStmY9x7K90",
        "outputId": "b57d3efd-8c02-46d6-9120-7e66c0f7cc5f"
      },
      "execution_count": 41,
      "outputs": [
        {
          "output_type": "stream",
          "name": "stdout",
          "text": [
            "Selamat Anda Lulus\n"
          ]
        }
      ]
    },
    {
      "cell_type": "code",
      "source": [
        "str_input = input('Enter your grade: ')\n",
        "grade = int(str_input)\n",
        "if grade == 100:\n",
        "  print(\"perfect\")\n",
        "else:\n",
        "  print(\"keep it up\")"
      ],
      "metadata": {
        "colab": {
          "base_uri": "https://localhost:8080/"
        },
        "id": "wN3Tq2Pq7LhD",
        "outputId": "01f749f3-107e-4867-936c-34b13c29da24"
      },
      "execution_count": 42,
      "outputs": [
        {
          "output_type": "stream",
          "name": "stdout",
          "text": [
            "Enter your grade: 100\n",
            "perfect\n"
          ]
        }
      ]
    },
    {
      "cell_type": "code",
      "source": [
        "Lapar = input(\"Apakah zaki lapar? \")\n",
        "if(\"lapar == ya\"):\n",
        "  print(\"Zaki makan\")\n",
        "else:\n",
        "  print(\"Zaki tidak makan\")"
      ],
      "metadata": {
        "colab": {
          "base_uri": "https://localhost:8080/"
        },
        "id": "c_gZVQf37L-8",
        "outputId": "7ae17af1-4290-41d3-c420-92792cdfc9a0"
      },
      "execution_count": 43,
      "outputs": [
        {
          "output_type": "stream",
          "name": "stdout",
          "text": [
            "Apakah zaki lapar? ya\n",
            "Zaki makan\n"
          ]
        }
      ]
    },
    {
      "cell_type": "code",
      "source": [
        "#Contoh penggunaan kondisi elif\n",
        "hari_ini = input(\"Masukkan hari(gunakan huruf kecil): \")\n",
        "if(hari_ini == \"senin\"):\n",
        "  print(\"Saya akan kuliah\")\n",
        "elif(hari_ini == \"selasa\"):\n",
        "  print(\"Saya akan kuliah\")\n",
        "elif(hari_ini == \"rabu\"):\n",
        "  print(\"Saya akan kuliah\")\n",
        "elif(hari_ini == \"kamis\"):\n",
        "  print(\"Saya akan kuliah\")\n",
        "elif(hari_ini == \"jumat\"):\n",
        "  print(\"Saya akan kuliah\")\n",
        "elif(hari_ini == \"sabtu\"):\n",
        "  print(\"Saya akan kuliah\")\n",
        "elif(hari_ini == \"minggu\"):\n",
        "  print(\"Saya akan libur\")"
      ],
      "metadata": {
        "colab": {
          "base_uri": "https://localhost:8080/"
        },
        "id": "PDngOBAW7cbE",
        "outputId": "261b7b47-78c6-4fbd-abba-8c5a03ccc7b2"
      },
      "execution_count": 45,
      "outputs": [
        {
          "output_type": "stream",
          "name": "stdout",
          "text": [
            "Masukkan hari(gunakan huruf kecil): kamis\n",
            "Saya akan kuliah\n"
          ]
        }
      ]
    },
    {
      "cell_type": "code",
      "source": [
        "str_input = input('Enter your grade: ')\n",
        "grade = int(str_input)\n",
        "if grade == 100:\n",
        "  print(\"perfect\")\n",
        "elif grade >= 85:\n",
        "  print(\"awesome\")\n",
        "elif grade >= 65:\n",
        "  print(\"passed the exam\")\n",
        "else:\n",
        "  print(\"below the passing grade\")"
      ],
      "metadata": {
        "colab": {
          "base_uri": "https://localhost:8080/"
        },
        "id": "_HV6WvNU7drT",
        "outputId": "5de7d75a-cc1b-4f4d-e863-7c9ed0a27fc2"
      },
      "execution_count": 47,
      "outputs": [
        {
          "output_type": "stream",
          "name": "stdout",
          "text": [
            "Enter your grade: 100\n",
            "perfect\n"
          ]
        }
      ]
    },
    {
      "cell_type": "code",
      "source": [
        "str_input = input('Enter your grade: ')\n",
        "grade = int(str_input)\n",
        "if grade == 100:\n",
        "  print(\"perfect\")\n",
        "elif grade >= 85:\n",
        "  print(\"awesome\")\n",
        "elif grade >= 65:\n",
        "  print(\"passed the exam\")\n",
        "if grade <= 70:\n",
        "  print(\"but you need to improve it!\")\n",
        "else:\n",
        "  print(\"below the passing grade\")"
      ],
      "metadata": {
        "colab": {
          "base_uri": "https://localhost:8080/"
        },
        "id": "tTwPSlLT7iFV",
        "outputId": "fe293b86-1807-4258-bc79-670788482643"
      },
      "execution_count": 51,
      "outputs": [
        {
          "output_type": "stream",
          "name": "stdout",
          "text": [
            "Enter your grade: 99\n",
            "awesome\n",
            "below the passing grade\n"
          ]
        }
      ]
    },
    {
      "cell_type": "code",
      "source": [
        "grade = int(input('Enter your current grade: '))\n",
        "prev_grade = int(input('Enter your previous grade: '))\n",
        "if grade >= 90 and prev_grade >= 65:\n",
        "  print(\"awesome\")\n",
        "if grade >= 90 and prev_grade < 65:\n",
        "  print(\"awesome. you definitely working hard, right?\")\n",
        "elif grade >= 65:\n",
        "  print(\"passed the exam\")\n",
        "else:\n",
        "  print(\"below the passing grade\")\n",
        "if (grade >= 65 and not prev_grade >= 65) or (not grade >= 65 and\n",
        "prev_grade >= 65):\n",
        "  print(\"at least you passed one exam. good job!\")"
      ],
      "metadata": {
        "colab": {
          "base_uri": "https://localhost:8080/"
        },
        "id": "z8trkt187oBr",
        "outputId": "cd2a97a0-c18d-454b-f36c-5b3c4022d986"
      },
      "execution_count": 52,
      "outputs": [
        {
          "output_type": "stream",
          "name": "stdout",
          "text": [
            "Enter your current grade: 100\n",
            "Enter your previous grade: 100\n",
            "awesome\n",
            "passed the exam\n"
          ]
        }
      ]
    }
  ]
}