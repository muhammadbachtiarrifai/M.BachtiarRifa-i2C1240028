{
  "nbformat": 4,
  "nbformat_minor": 0,
  "metadata": {
    "colab": {
      "provenance": [],
      "authorship_tag": "ABX9TyNvILZ26Jx3JmYkN22xpoCY",
      "include_colab_link": true
    },
    "kernelspec": {
      "name": "python3",
      "display_name": "Python 3"
    },
    "language_info": {
      "name": "python"
    }
  },
  "cells": [
    {
      "cell_type": "markdown",
      "metadata": {
        "id": "view-in-github",
        "colab_type": "text"
      },
      "source": [
        "<a href=\"https://colab.research.google.com/github/muhammadbachtiarrifai/M.BachtiarRifa-i2C1240028/blob/main/P8_M_BachtiarRifai_2C1240048.ipynb\" target=\"_parent\"><img src=\"https://colab.research.google.com/assets/colab-badge.svg\" alt=\"Open In Colab\"/></a>"
      ]
    },
    {
      "cell_type": "code",
      "source": [
        "#1 nilai maksimum\n",
        "arr=[1,5,9,23,77]\n",
        "nilai_maksimum = max(arr)\n",
        "print(nilai_maksimum)"
      ],
      "metadata": {
        "colab": {
          "base_uri": "https://localhost:8080/"
        },
        "id": "RMEBrclLiHWM",
        "outputId": "591cdb1a-28c8-4bd2-9e91-dffa6a64a88b"
      },
      "execution_count": 21,
      "outputs": [
        {
          "output_type": "stream",
          "name": "stdout",
          "text": [
            "77\n"
          ]
        }
      ]
    },
    {
      "cell_type": "code",
      "source": [
        "# nilai minimum\n",
        "arr=[5,8,9,45,88]\n",
        "nilai_minimum = min(arr)\n",
        "print(nilai_minimum)"
      ],
      "metadata": {
        "colab": {
          "base_uri": "https://localhost:8080/"
        },
        "id": "hS0_ivNfim6L",
        "outputId": "a223cca4-7c7e-4173-ab94-f804296fa36c"
      },
      "execution_count": 24,
      "outputs": [
        {
          "output_type": "stream",
          "name": "stdout",
          "text": [
            "5\n"
          ]
        }
      ]
    },
    {
      "cell_type": "code",
      "source": [
        "# penjumlahan\n",
        "arr=[4,7,9,45,67,88]\n",
        "penjumlahan = sum(arr)\n",
        "print(penjumlahan)"
      ],
      "metadata": {
        "colab": {
          "base_uri": "https://localhost:8080/"
        },
        "id": "Vj2KDrfljGaj",
        "outputId": "f8f41ac0-af1b-4f4d-aec5-a36ca9eaea67"
      },
      "execution_count": 23,
      "outputs": [
        {
          "output_type": "stream",
          "name": "stdout",
          "text": [
            "220\n"
          ]
        }
      ]
    },
    {
      "cell_type": "code",
      "source": [
        "# jumlah elemen\n",
        "arr=[4,7,8,9,45]\n",
        "jumlah_elemen=len(arr)\n",
        "print(jumlah_elemen)"
      ],
      "metadata": {
        "colab": {
          "base_uri": "https://localhost:8080/"
        },
        "id": "ygekSQEIjT_z",
        "outputId": "336dd5b0-624a-4821-d14d-4027f41598e4"
      },
      "execution_count": 25,
      "outputs": [
        {
          "output_type": "stream",
          "name": "stdout",
          "text": [
            "5\n"
          ]
        }
      ]
    },
    {
      "cell_type": "code",
      "source": [
        "# rata rata\n",
        "arr=[4,7,9,32,65,88]\n",
        "rata_rata=sum(arr)/len(arr)\n",
        "print(rata_rata)"
      ],
      "metadata": {
        "colab": {
          "base_uri": "https://localhost:8080/"
        },
        "id": "NepqimY3kBBr",
        "outputId": "3f4324ac-fec8-4844-b3f3-e6cb3832a6b4"
      },
      "execution_count": 27,
      "outputs": [
        {
          "output_type": "stream",
          "name": "stdout",
          "text": [
            "34.166666666666664\n"
          ]
        }
      ]
    }
  ]
}