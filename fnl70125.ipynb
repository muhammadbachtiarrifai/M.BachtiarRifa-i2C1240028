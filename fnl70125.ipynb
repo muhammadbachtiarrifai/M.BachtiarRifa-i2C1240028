{
  "nbformat": 4,
  "nbformat_minor": 0,
  "metadata": {
    "colab": {
      "provenance": [],
      "authorship_tag": "ABX9TyPz7FXPitSvHQpPHFrLmznB",
      "include_colab_link": true
    },
    "kernelspec": {
      "name": "python3",
      "display_name": "Python 3"
    },
    "language_info": {
      "name": "python"
    }
  },
  "cells": [
    {
      "cell_type": "markdown",
      "metadata": {
        "id": "view-in-github",
        "colab_type": "text"
      },
      "source": [
        "<a href=\"https://colab.research.google.com/github/muhammadbachtiarrifai/M.BachtiarRifa-i2C1240028/blob/main/fnl70125.ipynb\" target=\"_parent\"><img src=\"https://colab.research.google.com/assets/colab-badge.svg\" alt=\"Open In Colab\"/></a>"
      ]
    },
    {
      "cell_type": "code",
      "execution_count": null,
      "metadata": {
        "colab": {
          "base_uri": "https://localhost:8080/"
        },
        "id": "3MNXw6rsOqVA",
        "outputId": "d165a0d8-f3b9-4684-d732-4abf4725a028"
      },
      "outputs": [
        {
          "output_type": "stream",
          "name": "stdout",
          "text": [
            "masukkan nilai D:8\n",
            "[8, 24, 40, 56, 88, 104]\n"
          ]
        }
      ],
      "source": [
        "# Membuat array dengan 6 elemen integer\n",
        "S = [1,3,5,7,11,13]\n",
        "\n",
        "# Menerima input integer dari pengguna\n",
        "D = int(input(\"masukkan nilai D:\"))\n",
        "\n",
        "# Mengalikan setiap elemen array dengan input integer dan mencetak hasilnya\n",
        "for i in range (len(S)):\n",
        "  S[i]=S[i]*D\n",
        "print(S)"
      ]
    },
    {
      "cell_type": "code",
      "source": [
        "#Inisialisasi array T\n",
        "T = [9, 12, 30, -1, 0, 4, -1, 3, 30, 14]  # Contoh array dengan 10 elemen\n",
        "\n",
        "# Inisialisasi nilai terbesar dengan elemen pertama array\n",
        "largest = T[0]\n",
        "\n",
        "# Iterasi melalui array untuk mencari nilai terbesar\n",
        "for element in T:\n",
        "    if element > largest:\n",
        "        largest = element\n",
        "\n",
        "# Menampilkan nilai terbesar\n",
        "print(\"Nilai terbesar dari T:\", largest)\n",
        "\n",
        "# Contoh array kedua\n",
        "T = [1, 3, 5, 8, -12, 90, 3, 5] # Contoh array dengan 8 elemen\n",
        "\n",
        "# Inisialisasi nilai terbesar dengan elemen pertama array\n",
        "largest = T[0]\n",
        "\n",
        "# Iterasi melalui array untuk mencari nilai terbesar\n",
        "for element in T:\n",
        "    if element > largest:\n",
        "        largest = element\n",
        "\n",
        "# Menampilkan nilai terbesar\n",
        "print(\"Nilai terbesar dari T:\", largest)"
      ],
      "metadata": {
        "colab": {
          "base_uri": "https://localhost:8080/"
        },
        "id": "Q4nwGgknRH5c",
        "outputId": "e932b122-8b7d-4f2c-848c-5fc1c7cf2735"
      },
      "execution_count": null,
      "outputs": [
        {
          "output_type": "stream",
          "name": "stdout",
          "text": [
            "Nilai terbesar dari T: 30\n",
            "Nilai terbesar dari T: 90\n"
          ]
        }
      ]
    }
  ]
}